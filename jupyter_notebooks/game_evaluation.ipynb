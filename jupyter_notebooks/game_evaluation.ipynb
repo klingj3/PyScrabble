{
 "cells": [
  {
   "cell_type": "code",
   "execution_count": 1,
   "metadata": {
    "pycharm": {
     "is_executing": false
    }
   },
   "outputs": [],
   "source": [
    "import matplotlib.pyplot as plt\n",
    "import pandas as pd\n",
    "import os\n",
    "from collections import Counter\n",
    "from game_manager import GameMaster\n",
    "from multiprocessing import Pool\n",
    "\n",
    "os.chdir('..')"
   ]
  },
  {
   "cell_type": "code",
   "execution_count": null,
   "metadata": {},
   "outputs": [],
   "source": [
    "def run_games(num=1):\n",
    "    gm = GameMaster(human_count=0, computer_count=2)\n",
    "    word_counts = Counter()\n",
    "    for _ in range(num):\n",
    "        gm.play_game()\n",
    "        for player in gm.players:\n",
    "            word_counts += Counter(player.word_hist)\n",
    "    return word_counts\n",
    "\n",
    "word_counts = run_games(1000)\n",
    "print(word_counts)"
   ]
  }
 ],
 "metadata": {
  "kernelspec": {
   "display_name": "Python 3",
   "language": "python",
   "name": "python3"
  },
  "language_info": {
   "codemirror_mode": {
    "name": "ipython",
    "version": 3
   },
   "file_extension": ".py",
   "mimetype": "text/x-python",
   "name": "python",
   "nbconvert_exporter": "python",
   "pygments_lexer": "ipython3",
   "version": "3.7.4"
  },
  "pycharm": {
   "stem_cell": {
    "cell_type": "raw",
    "metadata": {
     "collapsed": false
    },
    "source": []
   }
  }
 },
 "nbformat": 4,
 "nbformat_minor": 1
}
